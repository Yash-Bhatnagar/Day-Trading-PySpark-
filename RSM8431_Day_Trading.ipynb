{
  "nbformat": 4,
  "nbformat_minor": 0,
  "metadata": {
    "colab": {
      "name": "1008249566_RSM8431_Day_Trading.ipynb",
      "provenance": [],
      "collapsed_sections": [
        "dmGt30dSPkRm",
        "XlDIxI7LTw5k",
        "qwq035O65dDv",
        "8g_mNvb0stdI"
      ]
    },
    "kernelspec": {
      "name": "python3",
      "display_name": "Python 3"
    },
    "language_info": {
      "name": "python"
    }
  },
  "cells": [
    {
      "cell_type": "code",
      "source": [
        "#Mounting google drive\n",
        "from google.colab import drive\n",
        "drive.mount('/content/drive/')"
      ],
      "metadata": {
        "colab": {
          "base_uri": "https://localhost:8080/"
        },
        "id": "LmTWkBzjGdZY",
        "outputId": "56a911ca-680b-4248-ed35-9ba2375fe734"
      },
      "execution_count": null,
      "outputs": [
        {
          "output_type": "stream",
          "name": "stdout",
          "text": [
            "Drive already mounted at /content/drive/; to attempt to forcibly remount, call drive.mount(\"/content/drive/\", force_remount=True).\n"
          ]
        }
      ]
    },
    {
      "cell_type": "code",
      "execution_count": null,
      "metadata": {
        "colab": {
          "base_uri": "https://localhost:8080/"
        },
        "id": "G12drqlJFwHt",
        "outputId": "e2d25da4-7081-4b3c-8d04-b3764e0ae869"
      },
      "outputs": [
        {
          "output_type": "stream",
          "name": "stdout",
          "text": [
            "Requirement already satisfied: pyspark in /usr/local/lib/python3.7/dist-packages (3.2.1)\n",
            "Requirement already satisfied: py4j==0.10.9.3 in /usr/local/lib/python3.7/dist-packages (from pyspark) (0.10.9.3)\n"
          ]
        }
      ],
      "source": [
        "!pip install pyspark"
      ]
    },
    {
      "cell_type": "code",
      "source": [
        "# Importing libraries\n",
        "import math\n",
        "import numpy as np\n",
        "import pandas as pd\n",
        "import matplotlib.pyplot as plt\n",
        "import seaborn as sns\n",
        "\n",
        "import pyspark\n",
        "import pyspark.sql.functions as F\n",
        "from pyspark.sql import SparkSession"
      ],
      "metadata": {
        "id": "pbas0aJhGBA3"
      },
      "execution_count": null,
      "outputs": []
    },
    {
      "cell_type": "code",
      "source": [
        "#Function declaration\n",
        "def print_stocks(stock_list,n):\n",
        "  \"\"\"\n",
        "  This function prints the stock names of top 'n' stocks that outperforms\n",
        "  \"\"\"\n",
        "  #Fetching stock name from the stock list\n",
        "  stocks = stock_list.select(F.split('stock_name',r'Stocks/')[1])\n",
        "  \n",
        "  df_values = stocks.toPandas()\n",
        "  i = 0\n",
        "  for x in df_values.iloc[0:n,0]:\n",
        "    if(i%10 == 0):\n",
        "      print('')\n",
        "    print(i+1,' - ',x[:-4], ' | ',end='')\n",
        "    i+=1"
      ],
      "metadata": {
        "id": "z0wJzg3UsCjo"
      },
      "execution_count": null,
      "outputs": []
    },
    {
      "cell_type": "code",
      "source": [
        "# Unzip the files\n",
        "! unzip '/content/drive/MyDrive/Colab Notebooks/8431/finance.zip' > /dev/null #Please change path while running on your instance"
      ],
      "metadata": {
        "colab": {
          "base_uri": "https://localhost:8080/"
        },
        "id": "fPcOcnPiGpd3",
        "outputId": "e3359125-384d-4ce1-f859-901fe83a0445"
      },
      "execution_count": null,
      "outputs": [
        {
          "output_type": "stream",
          "name": "stdout",
          "text": [
            "replace ETFs/aadr.us.txt? [y]es, [n]o, [A]ll, [N]one, [r]ename: A\n",
            "A\n"
          ]
        }
      ]
    },
    {
      "cell_type": "code",
      "source": [
        "# Creating spark object\n",
        "spark = SparkSession.builder.appName(\"Day Trading\").getOrCreate()"
      ],
      "metadata": {
        "id": "8wLqEcuOGx-8"
      },
      "execution_count": null,
      "outputs": []
    },
    {
      "cell_type": "code",
      "source": [
        "# Fetching ETF data\n",
        "etf = spark.read.option(\"header\", True).option(\"inferSchema\", True).csv('ETFs/spy.us.txt').withColumn(\"filename\", F.input_file_name())\n",
        "\n",
        "# Fetching all stocks data\n",
        "stocks = spark.read.option(\"header\", True).option(\"inferSchema\", True).csv(\"Stocks/*.us.txt\").withColumn(\"filename\", F.input_file_name())"
      ],
      "metadata": {
        "id": "LUuWrlyNJQyH"
      },
      "execution_count": null,
      "outputs": []
    },
    {
      "cell_type": "code",
      "source": [
        "#Declaring variables to filter data\n",
        "first_date = '2007-01-01'\n",
        "last_date = '2017-12-31'"
      ],
      "metadata": {
        "id": "JZFSU7H2UDF0"
      },
      "execution_count": null,
      "outputs": []
    },
    {
      "cell_type": "markdown",
      "source": [
        "## S&P 500"
      ],
      "metadata": {
        "id": "dmGt30dSPkRm"
      }
    },
    {
      "cell_type": "code",
      "source": [
        "#Filtering S&P500 data from 2007 to 2017\n",
        "df_SPY = etf.filter(F.col('Date').between(first_date,last_date))"
      ],
      "metadata": {
        "id": "JD9JY7ifLSg2"
      },
      "execution_count": null,
      "outputs": []
    },
    {
      "cell_type": "code",
      "source": [
        "#Extracting year\n",
        "df_SPY = df_SPY.withColumn('Year', F.split(df_SPY['Date'],'-').getItem(0))\n",
        "\n",
        "#Extracting month\n",
        "df_SPY = df_SPY.withColumn('Month', F.split(df_SPY['Date'],'-').getItem(1))\n",
        "\n",
        "#Year-Month key column\n",
        "year_month = df_SPY.Year*100+df_SPY.Month\n",
        "df_SPY = df_SPY.withColumn('YYYYMM', year_month)"
      ],
      "metadata": {
        "id": "vGVTY05jLjOl"
      },
      "execution_count": null,
      "outputs": []
    },
    {
      "cell_type": "code",
      "source": [
        "df_SPY.show()"
      ],
      "metadata": {
        "colab": {
          "base_uri": "https://localhost:8080/"
        },
        "id": "vr0dXEcVuQfo",
        "outputId": "c43f1c32-59e1-4b8a-bdb5-55b3844b60cc"
      },
      "execution_count": null,
      "outputs": [
        {
          "output_type": "stream",
          "name": "stdout",
          "text": [
            "+----------+------+------+------+------+---------+-------+--------------------+----+-----+--------+\n",
            "|      Date|  Open|  High|   Low| Close|   Volume|OpenInt|            filename|Year|Month|  YYYYMM|\n",
            "+----------+------+------+------+------+---------+-------+--------------------+----+-----+--------+\n",
            "|2007-01-03|123.94|124.46|122.47|123.16|108873668|      0|file:///content/E...|2007|   01|200701.0|\n",
            "|2007-01-04|123.03|123.75| 122.5|123.42| 79937780|      0|file:///content/E...|2007|   01|200701.0|\n",
            "|2007-01-05|123.12|123.18|122.31|122.44| 88039354|      0|file:///content/E...|2007|   01|200701.0|\n",
            "|2007-01-08|122.67|123.19|122.19|122.99| 82276143|      0|file:///content/E...|2007|   01|200701.0|\n",
            "|2007-01-09| 123.1|123.35|122.33|122.89| 86930150|      0|file:///content/E...|2007|   01|200701.0|\n",
            "|2007-01-10|122.48|123.32|122.24| 123.3| 83203755|      0|file:///content/E...|2007|   01|200701.0|\n",
            "|2007-01-11|123.31|124.25|123.26|123.85| 63745991|      0|file:///content/E...|2007|   01|200701.0|\n",
            "|2007-01-12|123.82|124.76|123.81|124.76| 66166541|      0|file:///content/E...|2007|   01|200701.0|\n",
            "|2007-01-16|124.63|124.95|124.35|124.53| 51643674|      0|file:///content/E...|2007|   01|200701.0|\n",
            "|2007-01-17|124.45|124.97|124.35|124.59| 59229385|      0|file:///content/E...|2007|   01|200701.0|\n",
            "|2007-01-18| 124.7|124.78| 124.0|124.18| 78359317|      0|file:///content/E...|2007|   01|200701.0|\n",
            "|2007-01-19|124.18|124.64|124.12|124.43| 65411232|      0|file:///content/E...|2007|   01|200701.0|\n",
            "|2007-01-22|124.63|124.64|123.65|124.05| 69175620|      0|file:///content/E...|2007|   01|200701.0|\n",
            "|2007-01-23|123.95|124.63|123.76|124.41| 62090503|      0|file:///content/E...|2007|   01|200701.0|\n",
            "|2007-01-24|124.54|125.44|124.51|125.41| 64821105|      0|file:///content/E...|2007|   01|200701.0|\n",
            "|2007-01-25|125.31|125.38|123.72|123.95| 86054542|      0|file:///content/E...|2007|   01|200701.0|\n",
            "|2007-01-26|124.21|124.27|123.33|123.85| 85619143|      0|file:///content/E...|2007|   01|200701.0|\n",
            "|2007-01-29|123.88|124.41|123.47|123.75| 76009471|      0|file:///content/E...|2007|   01|200701.0|\n",
            "|2007-01-30|124.03|124.46|123.76| 124.4| 80839102|      0|file:///content/E...|2007|   01|200701.0|\n",
            "|2007-01-31|124.25|125.57|124.07|125.22|105496808|      0|file:///content/E...|2007|   01|200701.0|\n",
            "+----------+------+------+------+------+---------+-------+--------------------+----+-----+--------+\n",
            "only showing top 20 rows\n",
            "\n"
          ]
        }
      ]
    },
    {
      "cell_type": "code",
      "source": [
        "#Daily returns\n",
        "returns_daily = df_SPY.Close - df_SPY.Open\n",
        "df_SPY = df_SPY.withColumn('Diff_Open_Close', returns_daily)\n",
        "\n",
        "df_SPY.show()"
      ],
      "metadata": {
        "colab": {
          "base_uri": "https://localhost:8080/"
        },
        "id": "9KCOewfFvVOw",
        "outputId": "2c6f4801-f382-4ba4-a681-f2fd557e9f79"
      },
      "execution_count": null,
      "outputs": [
        {
          "output_type": "stream",
          "name": "stdout",
          "text": [
            "+----------+------+------+------+------+---------+-------+--------------------+----+-----+--------+--------------------+\n",
            "|      Date|  Open|  High|   Low| Close|   Volume|OpenInt|            filename|Year|Month|  YYYYMM|     Diff_Open_Close|\n",
            "+----------+------+------+------+------+---------+-------+--------------------+----+-----+--------+--------------------+\n",
            "|2007-01-03|123.94|124.46|122.47|123.16|108873668|      0|file:///content/E...|2007|   01|200701.0| -0.7800000000000011|\n",
            "|2007-01-04|123.03|123.75| 122.5|123.42| 79937780|      0|file:///content/E...|2007|   01|200701.0| 0.39000000000000057|\n",
            "|2007-01-05|123.12|123.18|122.31|122.44| 88039354|      0|file:///content/E...|2007|   01|200701.0| -0.6800000000000068|\n",
            "|2007-01-08|122.67|123.19|122.19|122.99| 82276143|      0|file:///content/E...|2007|   01|200701.0|  0.3199999999999932|\n",
            "|2007-01-09| 123.1|123.35|122.33|122.89| 86930150|      0|file:///content/E...|2007|   01|200701.0|-0.20999999999999375|\n",
            "|2007-01-10|122.48|123.32|122.24| 123.3| 83203755|      0|file:///content/E...|2007|   01|200701.0|  0.8199999999999932|\n",
            "|2007-01-11|123.31|124.25|123.26|123.85| 63745991|      0|file:///content/E...|2007|   01|200701.0|   0.539999999999992|\n",
            "|2007-01-12|123.82|124.76|123.81|124.76| 66166541|      0|file:///content/E...|2007|   01|200701.0|  0.9400000000000119|\n",
            "|2007-01-16|124.63|124.95|124.35|124.53| 51643674|      0|file:///content/E...|2007|   01|200701.0|-0.09999999999999432|\n",
            "|2007-01-17|124.45|124.97|124.35|124.59| 59229385|      0|file:///content/E...|2007|   01|200701.0| 0.14000000000000057|\n",
            "|2007-01-18| 124.7|124.78| 124.0|124.18| 78359317|      0|file:///content/E...|2007|   01|200701.0|  -0.519999999999996|\n",
            "|2007-01-19|124.18|124.64|124.12|124.43| 65411232|      0|file:///content/E...|2007|   01|200701.0|                0.25|\n",
            "|2007-01-22|124.63|124.64|123.65|124.05| 69175620|      0|file:///content/E...|2007|   01|200701.0| -0.5799999999999983|\n",
            "|2007-01-23|123.95|124.63|123.76|124.41| 62090503|      0|file:///content/E...|2007|   01|200701.0| 0.45999999999999375|\n",
            "|2007-01-24|124.54|125.44|124.51|125.41| 64821105|      0|file:///content/E...|2007|   01|200701.0|  0.8699999999999903|\n",
            "|2007-01-25|125.31|125.38|123.72|123.95| 86054542|      0|file:///content/E...|2007|   01|200701.0| -1.3599999999999994|\n",
            "|2007-01-26|124.21|124.27|123.33|123.85| 85619143|      0|file:///content/E...|2007|   01|200701.0|-0.35999999999999943|\n",
            "|2007-01-29|123.88|124.41|123.47|123.75| 76009471|      0|file:///content/E...|2007|   01|200701.0|-0.12999999999999545|\n",
            "|2007-01-30|124.03|124.46|123.76| 124.4| 80839102|      0|file:///content/E...|2007|   01|200701.0| 0.37000000000000455|\n",
            "|2007-01-31|124.25|125.57|124.07|125.22|105496808|      0|file:///content/E...|2007|   01|200701.0|  0.9699999999999989|\n",
            "+----------+------+------+------+------+---------+-------+--------------------+----+-----+--------+--------------------+\n",
            "only showing top 20 rows\n",
            "\n"
          ]
        }
      ]
    },
    {
      "cell_type": "code",
      "source": [
        "# Aggregating on monthly level\n",
        "sp500_agg = df_SPY.groupBy('YYYYMM')\\\n",
        "                  .agg(F.mean('Diff_Open_Close'))\\\n",
        "                  .withColumnRenamed('avg(Diff_Open_Close)','SP500_monthly_return')                  "
      ],
      "metadata": {
        "id": "xRj2sWoVvu1I"
      },
      "execution_count": null,
      "outputs": []
    },
    {
      "cell_type": "code",
      "source": [
        "sp500_agg.show() # sp500 table can be used for comparison"
      ],
      "metadata": {
        "colab": {
          "base_uri": "https://localhost:8080/"
        },
        "id": "zTyYOZ56v6LI",
        "outputId": "b7fefaa9-3321-41af-b28e-fa18b30fbfc4"
      },
      "execution_count": null,
      "outputs": [
        {
          "output_type": "stream",
          "name": "stdout",
          "text": [
            "+--------+--------------------+\n",
            "|  YYYYMM|SP500_monthly_return|\n",
            "+--------+--------------------+\n",
            "|200802.0|0.013500000000000512|\n",
            "|200801.0|-0.07333333333333363|\n",
            "|200902.0|-0.19068421052631754|\n",
            "|201007.0| 0.15361904761904757|\n",
            "|201409.0|-0.05952380952380546|\n",
            "|201602.0| 0.13499999999999943|\n",
            "|200708.0|-0.04000000000000131|\n",
            "|200909.0|  0.0573333333333337|\n",
            "|201104.0| 0.04899999999999878|\n",
            "|201702.0| 0.45684210526315827|\n",
            "|201705.0| 0.08318181818182004|\n",
            "|201608.0|-0.00521739130435...|\n",
            "|201205.0|-0.15545454545454487|\n",
            "|201710.0| 0.12954545454545172|\n",
            "|201508.0| -0.3047619047619064|\n",
            "|201001.0|-0.18415789473684185|\n",
            "|201412.0|-0.04090909090909...|\n",
            "|200810.0|-0.46582608695652167|\n",
            "|200812.0| 0.16713636363636394|\n",
            "|201304.0| 0.08727272727272929|\n",
            "+--------+--------------------+\n",
            "only showing top 20 rows\n",
            "\n"
          ]
        }
      ]
    },
    {
      "cell_type": "markdown",
      "source": [
        "## Stock Performance"
      ],
      "metadata": {
        "id": "XlDIxI7LTw5k"
      }
    },
    {
      "cell_type": "code",
      "source": [
        "#Filtering stocks between the given dates\n",
        "df_stocks = stocks.filter(F.col(\"Date\").between(first_date,last_date))\n",
        "\n",
        "#Showing data\n",
        "df_stocks.show()"
      ],
      "metadata": {
        "colab": {
          "base_uri": "https://localhost:8080/"
        },
        "id": "eOgF2vkXS-66",
        "outputId": "e1a29a2c-5295-4a91-fdc3-a5a2bae4a10c"
      },
      "execution_count": null,
      "outputs": [
        {
          "output_type": "stream",
          "name": "stdout",
          "text": [
            "+----------+------+------+------+------+--------+-------+--------------------+\n",
            "|      Date|  Open|  High|   Low| Close|  Volume|OpenInt|            filename|\n",
            "+----------+------+------+------+------+--------+-------+--------------------+\n",
            "|2007-01-03|30.116|30.715|30.096|30.572|53632518|      0|file:/content/Sto...|\n",
            "|2007-01-04|30.572|30.594| 30.15|30.392|38619002|      0|file:/content/Sto...|\n",
            "|2007-01-05|30.247|30.401|30.039|30.239|33199928|      0|file:/content/Sto...|\n",
            "|2007-01-08| 30.15|30.328|29.989| 30.23|29445866|      0|file:/content/Sto...|\n",
            "|2007-01-09|30.417|30.586|30.079| 30.23|30551941|      0|file:/content/Sto...|\n",
            "|2007-01-10|30.096| 30.28|30.063|30.239|28829050|      0|file:/content/Sto...|\n",
            "|2007-01-11|30.193|30.563|30.125| 30.53|37913995|      0|file:/content/Sto...|\n",
            "|2007-01-12|30.466|30.594|30.328|30.504|32163662|      0|file:/content/Sto...|\n",
            "|2007-01-16|30.594|30.794|30.536|30.683|38546214|      0|file:/content/Sto...|\n",
            "|2007-01-17|30.739|30.821|30.473|30.578|37548329|      0|file:/content/Sto...|\n",
            "|2007-01-18|30.602|30.731|29.997|30.594|51673136|      0|file:/content/Sto...|\n",
            "|2007-01-19|29.911|30.193|29.668|29.748|78085849|      0|file:/content/Sto...|\n",
            "|2007-01-22|29.894|30.055|29.458|29.588|51342870|      0|file:/content/Sto...|\n",
            "|2007-01-23|29.531|29.579|29.291|29.427|43408586|      0|file:/content/Sto...|\n",
            "|2007-01-24|29.548|29.588|29.403|29.499|26237330|      0|file:/content/Sto...|\n",
            "|2007-01-25|29.507|29.548|29.192|29.258|32019703|      0|file:/content/Sto...|\n",
            "|2007-01-26|29.419|29.427| 28.99|29.042|31939466|      0|file:/content/Sto...|\n",
            "|2007-01-29|29.042|29.267|29.007|29.137|30954374|      0|file:/content/Sto...|\n",
            "|2007-01-30|29.145|29.258|28.791|29.007|53558741|      0|file:/content/Sto...|\n",
            "|2007-01-31|28.982|29.163|28.848|29.024|44914237|      0|file:/content/Sto...|\n",
            "+----------+------+------+------+------+--------+-------+--------------------+\n",
            "only showing top 20 rows\n",
            "\n"
          ]
        }
      ]
    },
    {
      "cell_type": "code",
      "source": [
        "#Having a look at last 5 enteries\n",
        "df_stocks.tail(5)"
      ],
      "metadata": {
        "colab": {
          "base_uri": "https://localhost:8080/"
        },
        "id": "PNJdEjbeUigt",
        "outputId": "df975079-f7df-4bec-ef0a-66ab4e55cf3a"
      },
      "execution_count": null,
      "outputs": [
        {
          "output_type": "execute_result",
          "data": {
            "text/plain": [
              "[Row(Date='2017-11-10', Open=24.91, High=24.95, Low=24.88, Close=24.9499, Volume=53308, OpenInt=0, filename='file:/content/Stocks/omfl.us.txt'),\n",
              " Row(Date='2017-11-10', Open=13.3, High=14.63, Low=13.02, Close=13.08, Volume=9881303, OpenInt=0, filename='file:/content/Stocks/ppdf.us.txt'),\n",
              " Row(Date='2017-11-10', Open=21.06, High=22.0, Low=20.55, Close=21.16, Volume=2318015, OpenInt=0, filename='file:/content/Stocks/band.us.txt'),\n",
              " Row(Date='2017-11-10', Open=24.98, High=25.01, Low=24.98, Close=25.01, Volume=1033, OpenInt=0, filename='file:/content/Stocks/omfs.us.txt'),\n",
              " Row(Date='2017-11-09', Open=24.88, High=24.89, Low=24.86, Close=24.89, Volume=401, OpenInt=0, filename='file:/content/Stocks/jmom.us.txt')]"
            ]
          },
          "metadata": {},
          "execution_count": 16
        }
      ]
    },
    {
      "cell_type": "markdown",
      "source": [
        "Data Manipulation"
      ],
      "metadata": {
        "id": "C6okkN1DWGzU"
      }
    },
    {
      "cell_type": "code",
      "source": [
        "#Extracting year\n",
        "df_stocks = df_stocks.withColumn('Year', F.split(df_stocks['Date'],'-').getItem(0))\n",
        "\n",
        "#Extracting month\n",
        "df_stocks = df_stocks.withColumn('Month', F.split(df_stocks['Date'],'-').getItem(1))\n",
        "\n",
        "#Year-Month key column\n",
        "year_month = df_stocks.Year*100+df_stocks.Month\n",
        "df_stocks = df_stocks.withColumn('YYYYMM', year_month)\n",
        "\n",
        "#Finding daily return\n",
        "diff = df_stocks.Close - df_stocks.Open\n",
        "df_stocks = df_stocks.withColumn('Diff_Open_Close', diff)\n",
        "\n",
        "#Only using some selected columns --> #df_stocks2 = df_stocks.select(F.col('Date'), F.col('filename'), F.col('Diff_Open_Close'))\n",
        "df_stocks.show()"
      ],
      "metadata": {
        "colab": {
          "base_uri": "https://localhost:8080/"
        },
        "id": "VUzCQN5aU8A1",
        "outputId": "acf69fc8-a9fa-456f-aaea-6132ad5a4b7a"
      },
      "execution_count": null,
      "outputs": [
        {
          "output_type": "stream",
          "name": "stdout",
          "text": [
            "+----------+------+------+------+------+--------+-------+--------------------+----+-----+--------+--------------------+\n",
            "|      Date|  Open|  High|   Low| Close|  Volume|OpenInt|            filename|Year|Month|  YYYYMM|     Diff_Open_Close|\n",
            "+----------+------+------+------+------+--------+-------+--------------------+----+-----+--------+--------------------+\n",
            "|2007-01-03|30.116|30.715|30.096|30.572|53632518|      0|file:/content/Sto...|2007|   01|200701.0|  0.4559999999999995|\n",
            "|2007-01-04|30.572|30.594| 30.15|30.392|38619002|      0|file:/content/Sto...|2007|   01|200701.0|-0.17999999999999972|\n",
            "|2007-01-05|30.247|30.401|30.039|30.239|33199928|      0|file:/content/Sto...|2007|   01|200701.0|-0.00799999999999...|\n",
            "|2007-01-08| 30.15|30.328|29.989| 30.23|29445866|      0|file:/content/Sto...|2007|   01|200701.0| 0.08000000000000185|\n",
            "|2007-01-09|30.417|30.586|30.079| 30.23|30551941|      0|file:/content/Sto...|2007|   01|200701.0|-0.18700000000000117|\n",
            "|2007-01-10|30.096| 30.28|30.063|30.239|28829050|      0|file:/content/Sto...|2007|   01|200701.0| 0.14300000000000068|\n",
            "|2007-01-11|30.193|30.563|30.125| 30.53|37913995|      0|file:/content/Sto...|2007|   01|200701.0| 0.33699999999999974|\n",
            "|2007-01-12|30.466|30.594|30.328|30.504|32163662|      0|file:/content/Sto...|2007|   01|200701.0|0.038000000000000256|\n",
            "|2007-01-16|30.594|30.794|30.536|30.683|38546214|      0|file:/content/Sto...|2007|   01|200701.0| 0.08899999999999864|\n",
            "|2007-01-17|30.739|30.821|30.473|30.578|37548329|      0|file:/content/Sto...|2007|   01|200701.0|-0.16100000000000136|\n",
            "|2007-01-18|30.602|30.731|29.997|30.594|51673136|      0|file:/content/Sto...|2007|   01|200701.0|-0.00799999999999...|\n",
            "|2007-01-19|29.911|30.193|29.668|29.748|78085849|      0|file:/content/Sto...|2007|   01|200701.0|-0.16300000000000026|\n",
            "|2007-01-22|29.894|30.055|29.458|29.588|51342870|      0|file:/content/Sto...|2007|   01|200701.0| -0.3059999999999974|\n",
            "|2007-01-23|29.531|29.579|29.291|29.427|43408586|      0|file:/content/Sto...|2007|   01|200701.0| -0.1039999999999992|\n",
            "|2007-01-24|29.548|29.588|29.403|29.499|26237330|      0|file:/content/Sto...|2007|   01|200701.0|-0.04899999999999949|\n",
            "|2007-01-25|29.507|29.548|29.192|29.258|32019703|      0|file:/content/Sto...|2007|   01|200701.0|-0.24900000000000233|\n",
            "|2007-01-26|29.419|29.427| 28.99|29.042|31939466|      0|file:/content/Sto...|2007|   01|200701.0| -0.3769999999999989|\n",
            "|2007-01-29|29.042|29.267|29.007|29.137|30954374|      0|file:/content/Sto...|2007|   01|200701.0| 0.09499999999999886|\n",
            "|2007-01-30|29.145|29.258|28.791|29.007|53558741|      0|file:/content/Sto...|2007|   01|200701.0|-0.13799999999999812|\n",
            "|2007-01-31|28.982|29.163|28.848|29.024|44914237|      0|file:/content/Sto...|2007|   01|200701.0| 0.04200000000000159|\n",
            "+----------+------+------+------+------+--------+-------+--------------------+----+-----+--------+--------------------+\n",
            "only showing top 20 rows\n",
            "\n"
          ]
        }
      ]
    },
    {
      "cell_type": "code",
      "source": [
        "# Aggregating on stock level\n",
        "df_stock_agg = df_stocks.groupBy('filename','YYYYMM').agg(F.mean('Diff_Open_Close'))\n",
        "\n",
        "df_stock_agg.show()"
      ],
      "metadata": {
        "colab": {
          "base_uri": "https://localhost:8080/"
        },
        "id": "SzlQRFc_WjPk",
        "outputId": "059dece0-9482-4204-a81a-ae604261bb46"
      },
      "execution_count": null,
      "outputs": [
        {
          "output_type": "stream",
          "name": "stdout",
          "text": [
            "+--------------------+--------+--------------------+\n",
            "|            filename|  YYYYMM|avg(Diff_Open_Close)|\n",
            "+--------------------+--------+--------------------+\n",
            "|file:/content/Sto...|201503.0|  0.0672727272727281|\n",
            "|file:/content/Sto...|201602.0| 0.06309999999999967|\n",
            "|file:/content/Sto...|200908.0| 0.22866666666666666|\n",
            "|file:/content/Sto...|200806.0|-0.10190476190476193|\n",
            "|file:/content/Sto...|201306.0|-0.04050000000000083|\n",
            "|file:/content/Sto...|201309.0| 0.12750000000000022|\n",
            "|file:/content/Sto...|201303.0|  0.1693000000000012|\n",
            "|file:/content/Sto...|201404.0| 0.06233333333333254|\n",
            "|file:/content/Sto...|201305.0|  0.3380454545454544|\n",
            "|file:/content/Sto...|201308.0|-0.22490909090909061|\n",
            "|file:/content/Sto...|200810.0|-0.01043478260869512|\n",
            "|file:/content/Sto...|201111.0|-0.01990476190476153|\n",
            "|file:/content/Sto...|201201.0|-0.01294999999999...|\n",
            "|file:/content/Sto...|200706.0|-0.20042857142857157|\n",
            "|file:/content/Sto...|201201.0| -0.0946000000000005|\n",
            "|file:/content/Sto...|200712.0|-0.07000000000000065|\n",
            "|file:/content/Sto...|201008.0|-0.04094999999999984|\n",
            "|file:/content/Sto...|201305.0|0.051863636363636445|\n",
            "|file:/content/Sto...|200912.0|-0.00931818181818...|\n",
            "|file:/content/Sto...|201310.0| 0.06469565217391318|\n",
            "+--------------------+--------+--------------------+\n",
            "only showing top 20 rows\n",
            "\n"
          ]
        }
      ]
    },
    {
      "cell_type": "code",
      "source": [
        "#Renaming column\n",
        "df_stock_agg = df_stock_agg\\\n",
        "                    .withColumnRenamed('filename','stock_name')\\\n",
        "                    .withColumnRenamed('avg(Diff_Open_Close)','avg_return')\n",
        "\n",
        "df_stock_agg.show()"
      ],
      "metadata": {
        "colab": {
          "base_uri": "https://localhost:8080/"
        },
        "id": "ZHltKRPQisJq",
        "outputId": "82b48858-74ac-4684-a661-e0abae5fddfa"
      },
      "execution_count": null,
      "outputs": [
        {
          "output_type": "stream",
          "name": "stdout",
          "text": [
            "+--------------------+--------+--------------------+\n",
            "|          stock_name|  YYYYMM|          avg_return|\n",
            "+--------------------+--------+--------------------+\n",
            "|file:/content/Sto...|201503.0|  0.0672727272727281|\n",
            "|file:/content/Sto...|201602.0| 0.06309999999999967|\n",
            "|file:/content/Sto...|200908.0| 0.22866666666666666|\n",
            "|file:/content/Sto...|200806.0|-0.10190476190476193|\n",
            "|file:/content/Sto...|201306.0|-0.04050000000000083|\n",
            "|file:/content/Sto...|201309.0| 0.12750000000000022|\n",
            "|file:/content/Sto...|201303.0|  0.1693000000000012|\n",
            "|file:/content/Sto...|201404.0| 0.06233333333333254|\n",
            "|file:/content/Sto...|201305.0|  0.3380454545454544|\n",
            "|file:/content/Sto...|201308.0|-0.22490909090909061|\n",
            "|file:/content/Sto...|200810.0|-0.01043478260869512|\n",
            "|file:/content/Sto...|201111.0|-0.01990476190476153|\n",
            "|file:/content/Sto...|201201.0|-0.01294999999999...|\n",
            "|file:/content/Sto...|200706.0|-0.20042857142857157|\n",
            "|file:/content/Sto...|201201.0| -0.0946000000000005|\n",
            "|file:/content/Sto...|200712.0|-0.07000000000000065|\n",
            "|file:/content/Sto...|201008.0|-0.04094999999999984|\n",
            "|file:/content/Sto...|201305.0|0.051863636363636445|\n",
            "|file:/content/Sto...|200912.0|-0.00931818181818...|\n",
            "|file:/content/Sto...|201310.0| 0.06469565217391318|\n",
            "+--------------------+--------+--------------------+\n",
            "only showing top 20 rows\n",
            "\n"
          ]
        }
      ]
    },
    {
      "cell_type": "markdown",
      "source": [
        "## Comparison between other stocks and S&P500"
      ],
      "metadata": {
        "id": "qwq035O65dDv"
      }
    },
    {
      "cell_type": "code",
      "source": [
        "# Registering temporary table to be used in sql\n",
        "sp500_agg.createOrReplaceTempView('sp500_agg')\n",
        "df_stock_agg.createOrReplaceTempView('df_stock_agg')"
      ],
      "metadata": {
        "id": "PY2e1MjzzrKH"
      },
      "execution_count": null,
      "outputs": []
    },
    {
      "cell_type": "code",
      "source": [
        "whole_data = spark.sql(\"\"\"\n",
        "                  SELECT DFS.STOCK_NAME, DFS.YYYYMM, DFS.AVG_RETURN, SP.SP500_MONTHLY_RETURN\n",
        "                  FROM DF_STOCK_AGG DFS\n",
        "                  LEFT JOIN SP500_AGG SP\n",
        "                  ON DFS.YYYYMM = SP.YYYYMM\n",
        "              \"\"\")\n",
        "whole_data.show()"
      ],
      "metadata": {
        "colab": {
          "base_uri": "https://localhost:8080/"
        },
        "id": "RJdfRmXkyKMP",
        "outputId": "360849fb-bcc4-490a-c87f-0b9074f385e2"
      },
      "execution_count": null,
      "outputs": [
        {
          "output_type": "stream",
          "name": "stdout",
          "text": [
            "+--------------------+--------+--------------------+--------------------+\n",
            "|          STOCK_NAME|  YYYYMM|          AVG_RETURN|SP500_MONTHLY_RETURN|\n",
            "+--------------------+--------+--------------------+--------------------+\n",
            "|file:/content/Sto...|201503.0|  0.0672727272727281|-0.01909090909090...|\n",
            "|file:/content/Sto...|201602.0| 0.06309999999999967| 0.13499999999999943|\n",
            "|file:/content/Sto...|200908.0| 0.22866666666666666| 0.14223809523809633|\n",
            "|file:/content/Sto...|200806.0|-0.10190476190476193| -0.3961904761904752|\n",
            "|file:/content/Sto...|201306.0|-0.04050000000000083|-0.24199999999999733|\n",
            "|file:/content/Sto...|201309.0| 0.12750000000000022| 0.04600000000000222|\n",
            "|file:/content/Sto...|201303.0|  0.1693000000000012| 0.22849999999999682|\n",
            "|file:/content/Sto...|201404.0| 0.06233333333333254|-0.18095238095238284|\n",
            "|file:/content/Sto...|201305.0|  0.3380454545454544| 0.17181818181818057|\n",
            "|file:/content/Sto...|201308.0|-0.22490909090909061|-0.08090909090909096|\n",
            "|file:/content/Sto...|200810.0|-0.01043478260869512|-0.46582608695652167|\n",
            "|file:/content/Sto...|201111.0|-0.01990476190476153| -0.0700000000000013|\n",
            "|file:/content/Sto...|201201.0|-0.01294999999999...|  0.1760000000000012|\n",
            "|file:/content/Sto...|200706.0|-0.20042857142857157|-0.11571428571428874|\n",
            "|file:/content/Sto...|201201.0| -0.0946000000000005|  0.1760000000000012|\n",
            "|file:/content/Sto...|200712.0|-0.07000000000000065|-0.28400000000000036|\n",
            "|file:/content/Sto...|201008.0|-0.04094999999999984|  0.0318181818181813|\n",
            "|file:/content/Sto...|201305.0|0.051863636363636445| 0.17181818181818057|\n",
            "|file:/content/Sto...|200912.0|-0.00931818181818...|-0.13609090909090973|\n",
            "|file:/content/Sto...|201310.0| 0.06469565217391318|  0.3239130434782604|\n",
            "+--------------------+--------+--------------------+--------------------+\n",
            "only showing top 20 rows\n",
            "\n"
          ]
        }
      ]
    },
    {
      "cell_type": "code",
      "source": [
        "# Registering temporary table to be used in sql\n",
        "whole_data.createOrReplaceTempView('whole_data')\n",
        "\n",
        "data = spark.sql(\"\"\"\n",
        "                      SELECT *,\n",
        "                      CASE WHEN AVG_RETURN > SP500_MONTHLY_RETURN THEN 1 ELSE 0 END as FLAG\n",
        "                      FROM WHOLE_DATA\n",
        "                 \"\"\")\n",
        "data.show()"
      ],
      "metadata": {
        "colab": {
          "base_uri": "https://localhost:8080/"
        },
        "id": "VTS7gdFNyKJI",
        "outputId": "7aa10ae4-5e5d-40ef-b6a3-e2bc78fea60b"
      },
      "execution_count": null,
      "outputs": [
        {
          "output_type": "stream",
          "name": "stdout",
          "text": [
            "+--------------------+--------+--------------------+--------------------+----+\n",
            "|          STOCK_NAME|  YYYYMM|          AVG_RETURN|SP500_MONTHLY_RETURN|FLAG|\n",
            "+--------------------+--------+--------------------+--------------------+----+\n",
            "|file:/content/Sto...|201503.0|  0.0672727272727281|-0.01909090909090...|   1|\n",
            "|file:/content/Sto...|201602.0| 0.06309999999999967| 0.13499999999999943|   0|\n",
            "|file:/content/Sto...|200908.0| 0.22866666666666666| 0.14223809523809633|   1|\n",
            "|file:/content/Sto...|200806.0|-0.10190476190476193| -0.3961904761904752|   1|\n",
            "|file:/content/Sto...|201306.0|-0.04050000000000083|-0.24199999999999733|   1|\n",
            "|file:/content/Sto...|201309.0| 0.12750000000000022| 0.04600000000000222|   1|\n",
            "|file:/content/Sto...|201303.0|  0.1693000000000012| 0.22849999999999682|   0|\n",
            "|file:/content/Sto...|201404.0| 0.06233333333333254|-0.18095238095238284|   1|\n",
            "|file:/content/Sto...|201305.0|  0.3380454545454544| 0.17181818181818057|   1|\n",
            "|file:/content/Sto...|201308.0|-0.22490909090909061|-0.08090909090909096|   0|\n",
            "|file:/content/Sto...|200810.0|-0.01043478260869512|-0.46582608695652167|   1|\n",
            "|file:/content/Sto...|201111.0|-0.01990476190476153| -0.0700000000000013|   1|\n",
            "|file:/content/Sto...|201201.0|-0.01294999999999...|  0.1760000000000012|   0|\n",
            "|file:/content/Sto...|200706.0|-0.20042857142857157|-0.11571428571428874|   0|\n",
            "|file:/content/Sto...|201201.0| -0.0946000000000005|  0.1760000000000012|   0|\n",
            "|file:/content/Sto...|200712.0|-0.07000000000000065|-0.28400000000000036|   1|\n",
            "|file:/content/Sto...|201008.0|-0.04094999999999984|  0.0318181818181813|   0|\n",
            "|file:/content/Sto...|201305.0|0.051863636363636445| 0.17181818181818057|   0|\n",
            "|file:/content/Sto...|200912.0|-0.00931818181818...|-0.13609090909090973|   1|\n",
            "|file:/content/Sto...|201310.0| 0.06469565217391318|  0.3239130434782604|   0|\n",
            "+--------------------+--------+--------------------+--------------------+----+\n",
            "only showing top 20 rows\n",
            "\n"
          ]
        }
      ]
    },
    {
      "cell_type": "code",
      "source": [
        "#Finding how much did a stock outperform wrt SP500 on a monthly basis\n",
        "outperform = data.AVG_RETURN - data.SP500_MONTHLY_RETURN\n",
        "data = data.withColumn('Outperform', outperform)\n",
        "\n",
        "data.show()"
      ],
      "metadata": {
        "colab": {
          "base_uri": "https://localhost:8080/"
        },
        "id": "ny9KpPdM4QyG",
        "outputId": "6fc53ab8-5604-404b-c9f9-b298e0759e4e"
      },
      "execution_count": null,
      "outputs": [
        {
          "output_type": "stream",
          "name": "stdout",
          "text": [
            "+--------------------+--------+--------------------+--------------------+----+--------------------+\n",
            "|          STOCK_NAME|  YYYYMM|          AVG_RETURN|SP500_MONTHLY_RETURN|FLAG|          Outperform|\n",
            "+--------------------+--------+--------------------+--------------------+----+--------------------+\n",
            "|file:/content/Sto...|201503.0|  0.0672727272727281|-0.01909090909090...|   1| 0.08636363636363661|\n",
            "|file:/content/Sto...|201602.0| 0.06309999999999967| 0.13499999999999943|   0|-0.07189999999999976|\n",
            "|file:/content/Sto...|200908.0| 0.22866666666666666| 0.14223809523809633|   1| 0.08642857142857033|\n",
            "|file:/content/Sto...|200806.0|-0.10190476190476193| -0.3961904761904752|   1| 0.29428571428571326|\n",
            "|file:/content/Sto...|201306.0|-0.04050000000000083|-0.24199999999999733|   1| 0.20149999999999652|\n",
            "|file:/content/Sto...|201309.0| 0.12750000000000022| 0.04600000000000222|   1|   0.081499999999998|\n",
            "|file:/content/Sto...|201303.0|  0.1693000000000012| 0.22849999999999682|   0|-0.05919999999999562|\n",
            "|file:/content/Sto...|201404.0| 0.06233333333333254|-0.18095238095238284|   1| 0.24328571428571538|\n",
            "|file:/content/Sto...|201305.0|  0.3380454545454544| 0.17181818181818057|   1| 0.16622727272727386|\n",
            "|file:/content/Sto...|201308.0|-0.22490909090909061|-0.08090909090909096|   0|-0.14399999999999966|\n",
            "|file:/content/Sto...|200810.0|-0.01043478260869512|-0.46582608695652167|   1| 0.45539130434782654|\n",
            "|file:/content/Sto...|201111.0|-0.01990476190476153| -0.0700000000000013|   1| 0.05009523809523977|\n",
            "|file:/content/Sto...|201201.0|-0.01294999999999...|  0.1760000000000012|   0|-0.18895000000000017|\n",
            "|file:/content/Sto...|200706.0|-0.20042857142857157|-0.11571428571428874|   0|-0.08471428571428283|\n",
            "|file:/content/Sto...|201201.0| -0.0946000000000005|  0.1760000000000012|   0|-0.27060000000000173|\n",
            "|file:/content/Sto...|200712.0|-0.07000000000000065|-0.28400000000000036|   1| 0.21399999999999972|\n",
            "|file:/content/Sto...|201008.0|-0.04094999999999984|  0.0318181818181813|   0|-0.07276818181818115|\n",
            "|file:/content/Sto...|201305.0|0.051863636363636445| 0.17181818181818057|   0|-0.11995454545454412|\n",
            "|file:/content/Sto...|200912.0|-0.00931818181818...|-0.13609090909090973|   1| 0.12677272727272793|\n",
            "|file:/content/Sto...|201310.0| 0.06469565217391318|  0.3239130434782604|   0| -0.2592173913043472|\n",
            "+--------------------+--------+--------------------+--------------------+----+--------------------+\n",
            "only showing top 20 rows\n",
            "\n"
          ]
        }
      ]
    },
    {
      "cell_type": "code",
      "source": [
        "#Finding overall effect\n",
        "outperforming_stocks = data.groupBy('STOCK_NAME').agg(F.sum('Outperform'),F.sum('FLAG'))\n",
        "\n",
        "#Renaming columns\n",
        "outperforming_stocks = outperforming_stocks\\\n",
        "                    .withColumnRenamed('sum(Outperform)','Outperforms_by')\\\n",
        "                    .withColumnRenamed('sum(FLAG)','Number_of_months_outperformed')"
      ],
      "metadata": {
        "id": "oBU2jwEnyKGH"
      },
      "execution_count": null,
      "outputs": []
    },
    {
      "cell_type": "code",
      "source": [
        "outperforming_stocks.show()"
      ],
      "metadata": {
        "colab": {
          "base_uri": "https://localhost:8080/"
        },
        "id": "0_shyuOtyKDf",
        "outputId": "e1f79a6d-32e2-4dcc-9b29-cffd089ed646"
      },
      "execution_count": null,
      "outputs": [
        {
          "output_type": "stream",
          "name": "stdout",
          "text": [
            "+--------------------+-------------------+-----------------------------+\n",
            "|          STOCK_NAME|     Outperforms_by|Number_of_months_outperformed|\n",
            "+--------------------+-------------------+-----------------------------+\n",
            "|file:/content/Sto...|-0.4299814696490545|                           60|\n",
            "|file:/content/Sto...|-0.6282466212137441|                           63|\n",
            "|file:/content/Sto...| 1.0496859370098708|                           66|\n",
            "|file:/content/Sto...| -3.418216071222166|                           54|\n",
            "|file:/content/Sto...| -2.310570036537303|                           59|\n",
            "|file:/content/Sto...|-2.9480445194177536|                           53|\n",
            "|file:/content/Sto...|  8.526395755528519|                           80|\n",
            "|file:/content/Sto...| 2.5615381569866953|                           74|\n",
            "|file:/content/Sto...|  3.116369307491409|                           69|\n",
            "|file:/content/Sto...|-2.7176769525262223|                           55|\n",
            "|file:/content/Sto...| -3.515312623175174|                           53|\n",
            "|file:/content/Sto...|-2.2466904111898325|                           54|\n",
            "|file:/content/Sto...|-1.9061175930603635|                           57|\n",
            "|file:/content/Sto...| -6.862232407765107|                           46|\n",
            "|file:/content/Sto...|-2.6119126035213807|                           57|\n",
            "|file:/content/Sto...|-3.9270295378614932|                           53|\n",
            "|file:/content/Sto...|-3.6581822024261452|                           57|\n",
            "|file:/content/Sto...| -3.113579740005357|                           56|\n",
            "|file:/content/Sto...|  7.546593129620032|                           65|\n",
            "|file:/content/Sto...|-1.2124794520874427|                           58|\n",
            "+--------------------+-------------------+-----------------------------+\n",
            "only showing top 20 rows\n",
            "\n"
          ]
        }
      ]
    },
    {
      "cell_type": "code",
      "source": [
        "stock_list = outperforming_stocks.sort('Number_of_months_outperformed', 'Outperforms_by', ascending=False)"
      ],
      "metadata": {
        "id": "u05RzHIFyKAv"
      },
      "execution_count": null,
      "outputs": []
    },
    {
      "cell_type": "code",
      "source": [
        "stock_list.show()"
      ],
      "metadata": {
        "colab": {
          "base_uri": "https://localhost:8080/"
        },
        "id": "5sE9NA0EyJ-A",
        "outputId": "b0c57f57-af28-4c01-e0f6-ad2b4db3115e"
      },
      "execution_count": null,
      "outputs": [
        {
          "output_type": "stream",
          "name": "stdout",
          "text": [
            "+--------------------+------------------+-----------------------------+\n",
            "|          STOCK_NAME|    Outperforms_by|Number_of_months_outperformed|\n",
            "+--------------------+------------------+-----------------------------+\n",
            "|file:/content/Sto...|202.34338039994594|                           91|\n",
            "|file:/content/Sto...|14.843403988231469|                           88|\n",
            "|file:/content/Sto...|15.027595034853322|                           87|\n",
            "|file:/content/Sto...|12.953570903873626|                           86|\n",
            "|file:/content/Sto...|20.517258923659604|                           84|\n",
            "|file:/content/Sto...| 6.076593210628693|                           84|\n",
            "|file:/content/Sto...|21.533794926768905|                           83|\n",
            "|file:/content/Sto...|13.339167744955303|                           83|\n",
            "|file:/content/Sto...|  4.46383982419818|                           83|\n",
            "|file:/content/Sto...|  46.1843811742674|                           82|\n",
            "|file:/content/Sto...|15.810474676150225|                           82|\n",
            "|file:/content/Sto...| 43.38837712529011|                           81|\n",
            "|file:/content/Sto...|  9.18843677873052|                           81|\n",
            "|file:/content/Sto...| 27.09334944806029|                           80|\n",
            "|file:/content/Sto...|11.552592632602591|                           80|\n",
            "|file:/content/Sto...|11.088244500726148|                           80|\n",
            "|file:/content/Sto...|  8.65799996863038|                           80|\n",
            "|file:/content/Sto...| 8.526395755528519|                           80|\n",
            "|file:/content/Sto...| 6.983012518285219|                           80|\n",
            "|file:/content/Sto...|12.191847384568163|                           79|\n",
            "+--------------------+------------------+-----------------------------+\n",
            "only showing top 20 rows\n",
            "\n"
          ]
        }
      ]
    },
    {
      "cell_type": "markdown",
      "source": [
        "## Results"
      ],
      "metadata": {
        "id": "64E-o6rJmDC7"
      }
    },
    {
      "cell_type": "code",
      "source": [
        "print(\"Top 100 stocks are : \")\n",
        "print_stocks(stock_list,100)"
      ],
      "metadata": {
        "colab": {
          "base_uri": "https://localhost:8080/"
        },
        "id": "_HogAYBklM2p",
        "outputId": "da368326-1a3a-4227-baa5-6da3aa25fa71"
      },
      "execution_count": null,
      "outputs": [
        {
          "output_type": "stream",
          "name": "stdout",
          "text": [
            "Top 100 stocks are : \n",
            "\n",
            "1  -  nvr.us  | 2  -  bio.us  | 3  -  mtd.us  | 4  -  shw.us  | 5  -  tpl.us  | 6  -  acn.us  | 7  -  isrl.us  | 8  -  eqix.us  | 9  -  cp.us  | 10  -  atri.us  | \n",
            "11  -  neu.us  | 12  -  wtm.us  | 13  -  itic.us  | 14  -  mkl.us  | 15  -  azo.us  | 16  -  dit.us  | 17  -  gww.us  | 18  -  rop.us  | 19  -  tfx.us  | 20  -  ntn.us  | \n",
            "21  -  intg.us  | 22  -  antm.us  | 23  -  ulti.us  | 24  -  morn.us  | 25  -  aon.us  | 26  -  fcnca.us  | 27  -  isrg.us  | 28  -  dhil.us  | 29  -  wina.us  | 30  -  hsy.us  | \n",
            "31  -  it.us  | 32  -  bwld.us  | 33  -  bcr.us  | 34  -  ibm.us  | 35  -  psa.us  | 36  -  obas.us  | 37  -  utmd.us  | 38  -  mmm.us  | 39  -  lmt.us  | 40  -  ads.us  | \n",
            "41  -  seb.us  | 42  -  cohr.us  | 43  -  orly.us  | 44  -  amzn.us  | 45  -  cmg.us  | 46  -  anss.us  | 47  -  noc.us  | 48  -  tdg.us  | 49  -  pcln.us  | 50  -  wat.us  | \n",
            "51  -  ksu.us  | 52  -  caci.us  | 53  -  uhal.us  | 54  -  intu.us  | 55  -  wltw.us  | 56  -  lfus.us  | 57  -  zbh.us  | 58  -  ggg.us  | 59  -  pxd.us  | 60  -  unh.us  | \n",
            "61  -  mco.us  | 62  -  swk.us  | 63  -  re.us  | 64  -  djco.us  | 65  -  sam.us  | 66  -  csgp.us  | 67  -  tyl.us  | 68  -  px.us  | 69  -  mlab.us  | 70  -  lh.us  | \n",
            "71  -  adbe.us  | 72  -  adsk.us  | 73  -  gd.us  | 74  -  ph.us  | 75  -  el.us  | 76  -  prgo.us  | 77  -  ofix.us  | 78  -  kmt.us  | 79  -  mlnx.us  | 80  -  amg.us  | \n",
            "81  -  che.us  | 82  -  trns.us  | 83  -  cffi.us  | 84  -  var.us  | 85  -  ess.us  | 86  -  ffiv.us  | 87  -  wcg.us  | 88  -  dnb.us  | 89  -  cb.us  | 90  -  faro.us  | \n",
            "91  -  fmx.us  | 92  -  biib.us  | 93  -  phii.us  | 94  -  grvy.us  | 95  -  bxp.us  | 96  -  ci.us  | 97  -  ntl.us  | 98  -  cmpr.us  | 99  -  wrld.us  | 100  -  coo.us  | "
          ]
        }
      ]
    },
    {
      "cell_type": "markdown",
      "source": [
        "## Conclusion:"
      ],
      "metadata": {
        "id": "8g_mNvb0stdI"
      }
    },
    {
      "cell_type": "markdown",
      "source": [
        "By using these 100 stocks, the average performance on monthly basis was found to exceed the S&P 500 over the course of ten-year(between 2007 and 2017)\n",
        "\n",
        "\n",
        "#### Please note that our analysis is based on a strong assumption that:\n",
        "Past performance is an absolute indicator of future perfromance\n",
        "\n",
        "Note: This assumption doesn't hold true in real life!\n",
        "\n",
        "__________________"
      ],
      "metadata": {
        "id": "MDXoJWhW85Sm"
      }
    }
  ]
}